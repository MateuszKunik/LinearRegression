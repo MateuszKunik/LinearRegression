{
 "cells": [
  {
   "cell_type": "code",
   "execution_count": 1,
   "metadata": {},
   "outputs": [],
   "source": [
    "import numpy as np\n",
    "import matplotlib.pyplot as plt"
   ]
  },
  {
   "cell_type": "markdown",
   "metadata": {},
   "source": [
    "### Data"
   ]
  },
  {
   "cell_type": "code",
   "execution_count": 2,
   "metadata": {},
   "outputs": [],
   "source": [
    "def generate_data(n, slope, intercept, X_mean = 0, X_std = 1, nlevel = 0.5):\n",
    "    \n",
    "    X = X_std * np.random.randn(n) + X_mean\n",
    "    noise = np.random.randn(n)\n",
    "    \n",
    "    y = slope * X + intercept + noise\n",
    "    \n",
    "    return X, y"
   ]
  },
  {
   "cell_type": "code",
   "execution_count": 3,
   "metadata": {},
   "outputs": [],
   "source": [
    "X, y = generate_data(n = 100, slope = 1.5, intercept = -3)\n",
    "X_test, y_test = generate_data(n = 20, slope = 1.5, intercept = -3)"
   ]
  },
  {
   "cell_type": "markdown",
   "metadata": {},
   "source": [
    "#### Plot of generated data"
   ]
  },
  {
   "cell_type": "code",
   "execution_count": 4,
   "metadata": {},
   "outputs": [
    {
     "data": {
      "image/png": "[encoded data removed]",
      "text/plain": [
       "<Figure size 576x432 with 1 Axes>"
      ]
     },
     "metadata": {
      "needs_background": "light"
     },
     "output_type": "display_data"
    }
   ],
   "source": [
    "plt.figure(figsize=(8, 6))\n",
    "plt.xlabel(\"X\")\n",
    "plt.ylabel(\"Y\")\n",
    "plt.plot(X, y, \"bo\");"
   ]
  },
  {
   "cell_type": "markdown",
   "metadata": {},
   "source": [
    "### Regression equation\n",
    "$$y = m\\cdot x + b$$\n",
    "where,  \n",
    "$y$ - estimated value  \n",
    "$x$ - independent variable  \n",
    "$m$ - regression coefficient  \n",
    "$b$ - bias"
   ]
  },
  {
   "cell_type": "markdown",
   "metadata": {},
   "source": [
    "### Cost function\n",
    "$$MSE:=\\frac{1}{n}\\sum^{n}_{i=1}(y_i-\\bar{y}_i)^2$$"
   ]
  },
  {
   "cell_type": "markdown",
   "metadata": {},
   "source": [
    "#### Partial derivatives of cost function\n",
    "$$\\frac{\\partial}{\\partial m}=-\\frac{2}{N}\\sum^{N}_{i=1}x_i(y_i-(mx_i+b))$$\n",
    "$$\\frac{\\partial}{\\partial b}=-\\frac{2}{N}\\sum^{N}_{i=1}(y_i-(mx_i+b))$$"
   ]
  },
  {
   "cell_type": "code",
   "execution_count": 5,
   "metadata": {},
   "outputs": [],
   "source": [
    "def mse(y_true, y_pred):\n",
    "    \n",
    "    return 1/len(y_true) * sum((y_true - y_pred)**2)"
   ]
  },
  {
   "cell_type": "markdown",
   "metadata": {},
   "source": [
    "### Implementation"
   ]
  },
  {
   "cell_type": "code",
   "execution_count": 6,
   "metadata": {},
   "outputs": [],
   "source": [
    "class LinearRegression():\n",
    "    \n",
    "    def __init__(self, x, y):\n",
    "        # Initializing data\n",
    "        self.x = x\n",
    "        self.y = y\n",
    "        self.m = 0\n",
    "        self.b = 0\n",
    "        print(\"Model has been initialized.\")\n",
    "        \n",
    "        \n",
    "    def fit(self, epochs, lr):\n",
    "        \n",
    "        # Implementing Gradient Descent\n",
    "        for _ in range(epochs):\n",
    "            y_pred = self.m * self.x + self.b\n",
    "            \n",
    "            # Calculating derivatives\n",
    "            d_m = -2/len(self.x)*sum(self.x * (self.y - y_pred))\n",
    "            d_b = -2/len(self.x)*sum(self.y - y_pred)\n",
    "            \n",
    "            #Updating parameters\n",
    "            self.m = self.m - lr * d_m\n",
    "            self.b = self.b - lr * d_b\n",
    "            \n",
    "            print(f\" Epoch {_}/{epochs} -  MSE: {mse(y, y_pred)}\")\n",
    "        print(\"Model has beed fitted.\")\n",
    "        \n",
    "    \n",
    "    def coefficients(self):\n",
    "        \n",
    "        return self.m, self.b\n",
    "\n",
    "    \n",
    "    def predict(self, x_test):\n",
    "        y_pred = self.m * x_test + self.b\n",
    "        \n",
    "        return y_pred"
   ]
  },
  {
   "cell_type": "code",
   "execution_count": 7,
   "metadata": {},
   "outputs": [
    {
     "name": "stdout",
     "output_type": "stream",
     "text": [
      "Model has been initialized.\n"
     ]
    }
   ],
   "source": [
    "model = LinearRegression(X, y)"
   ]
  },
  {
   "cell_type": "code",
   "execution_count": 8,
   "metadata": {},
   "outputs": [
    {
     "name": "stdout",
     "output_type": "stream",
     "text": [
      " Epoch 0/10 -  MSE: 11.824721792357273\n",
      " Epoch 1/10 -  MSE: 7.999760848988829\n",
      " Epoch 2/10 -  MSE: 5.532653900222603\n",
      " Epoch 3/10 -  MSE: 3.941195512964082\n",
      " Epoch 4/10 -  MSE: 2.9144915700091825\n",
      " Epoch 5/10 -  MSE: 2.252070122444073\n",
      " Epoch 6/10 -  MSE: 1.8246454350034171\n",
      " Epoch 7/10 -  MSE: 1.5488303731184276\n",
      " Epoch 8/10 -  MSE: 1.3708357681899446\n",
      " Epoch 9/10 -  MSE: 1.2559612452521007\n",
      "Model has beed fitted.\n"
     ]
    }
   ],
   "source": [
    "model.fit(epochs = 10, lr = 0.1)"
   ]
  },
  {
   "cell_type": "code",
   "execution_count": 9,
   "metadata": {},
   "outputs": [
    {
     "name": "stdout",
     "output_type": "stream",
     "text": [
      "Mean squared error for validation dataset:\n",
      " 1.467610104589097\n"
     ]
    }
   ],
   "source": [
    "y_pred = model.predict(X_test)\n",
    "\n",
    "print(f\"Mean squared error for validation dataset:\\n {mse(y_test, y_pred)}\")"
   ]
  },
  {
   "cell_type": "code",
   "execution_count": 10,
   "metadata": {},
   "outputs": [],
   "source": [
    "slope_, intercept_ = model.coefficients()"
   ]
  },
  {
   "cell_type": "code",
   "execution_count": 11,
   "metadata": {},
   "outputs": [
    {
     "data": {
      "image/png": "[encoded data removed]",
      "text/plain": [
       "<Figure size 576x432 with 1 Axes>"
      ]
     },
     "metadata": {
      "needs_background": "light"
     },
     "output_type": "display_data"
    }
   ],
   "source": [
    "linspace = np.linspace(X.min(), X.max(), num = 100)\n",
    "\n",
    "plt.figure(figsize=(8, 6))\n",
    "plt.xlabel(\"X\")\n",
    "plt.ylabel(\"Y\")\n",
    "plt.plot(X, y, \"bo\");\n",
    "plt.plot(linspace , slope_ * linspace + intercept_, \"r--\");"
   ]
  },
  {
   "cell_type": "code",
   "execution_count": null,
   "metadata": {},
   "outputs": [],
   "source": []
  }
 ],
 "metadata": {
  "kernelspec": {
   "display_name": "Python 3",
   "language": "python",
   "name": "python3"
  },
  "language_info": {
   "codemirror_mode": {
    "name": "ipython",
    "version": 3
   },
   "file_extension": ".py",
   "mimetype": "text/x-python",
   "name": "python",
   "nbconvert_exporter": "python",
   "pygments_lexer": "ipython3",
   "version": "3.7.0"
  }
 },
 "nbformat": 4,
 "nbformat_minor": 2
}
