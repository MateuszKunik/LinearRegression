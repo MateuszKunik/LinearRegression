{
 "cells": [
  {
   "cell_type": "code",
   "execution_count": 308,
   "metadata": {},
   "outputs": [],
   "source": [
    "import numpy as np\n",
    "import pandas as pd\n",
    "import matplotlib.pyplot as plt"
   ]
  },
  {
   "cell_type": "markdown",
   "metadata": {},
   "source": [
    "### Data"
   ]
  },
  {
   "cell_type": "code",
   "execution_count": 309,
   "metadata": {},
   "outputs": [],
   "source": [
    "def generate_data(n, slope, intercept, X_mean = 0, X_std = 1, nlevel = 0.5):\n",
    "    \n",
    "    X = X_std * np.random.randn(n) + X_mean\n",
    "    noise = np.random.randn(n)\n",
    "    \n",
    "    y = slope * X + intercept + noise\n",
    "    \n",
    "    return X, y"
   ]
  },
  {
   "cell_type": "code",
   "execution_count": 310,
   "metadata": {},
   "outputs": [],
   "source": [
    "X, y = generate_data(n = 100, slope = 1.5, intercept = -3)\n",
    "X_test, y_test = generate_data(n = 20, slope = 1.5, intercept = -3)"
   ]
  },
  {
   "cell_type": "markdown",
   "metadata": {},
   "source": [
    "#### Plot of generated data"
   ]
  },
  {
   "cell_type": "code",
   "execution_count": 311,
   "metadata": {},
   "outputs": [
    {
     "data": {
      "image/png": "[encoded data removed]",
      "text/plain": [
       "<Figure size 576x432 with 1 Axes>"
      ]
     },
     "metadata": {
      "needs_background": "light"
     },
     "output_type": "display_data"
    }
   ],
   "source": [
    "plt.figure(figsize=(8, 6))\n",
    "plt.xlabel(\"X\")\n",
    "plt.ylabel(\"Y\")\n",
    "plt.plot(X, y, \"bo\");"
   ]
  },
  {
   "cell_type": "markdown",
   "metadata": {},
   "source": [
    "### Regression equation\n",
    "$$y = m\\cdot x + b$$\n",
    "where,  \n",
    "$y$ - estimated value  \n",
    "$x$ - independent variable  \n",
    "$m$ - regression coefficient  \n",
    "$b$ - bias"
   ]
  },
  {
   "cell_type": "markdown",
   "metadata": {},
   "source": [
    "### Cost function\n",
    "$$MSE:=\\frac{1}{n}\\sum^{n}_{i=1}(y_i-\\bar{y}_i)^2$$"
   ]
  },
  {
   "cell_type": "markdown",
   "metadata": {},
   "source": [
    "#### Partial derivatives of cost function\n",
    "$$\\frac{\\partial}{\\partial m}=-\\frac{2}{N}\\sum^{N}_{i=1}x_i(y_i-(mx_i+b))$$\n",
    "$$\\frac{\\partial}{\\partial b}=-\\frac{2}{N}\\sum^{N}_{i=1}(y_i-(mx_i+b))$$"
   ]
  },
  {
   "cell_type": "code",
   "execution_count": 312,
   "metadata": {},
   "outputs": [],
   "source": [
    "def mse(y_true, y_pred):\n",
    "    \n",
    "    return 1/len(y_true) * sum((y_true - y_pred)**2)"
   ]
  },
  {
   "cell_type": "code",
   "execution_count": 313,
   "metadata": {},
   "outputs": [],
   "source": [
    "class LinearRegression():\n",
    "    \n",
    "    def __init__(self, x, y):\n",
    "        # Initializing data\n",
    "        self.x = x\n",
    "        self.y = y\n",
    "        self.m = 0\n",
    "        self.b = 0\n",
    "        print(\"Model has been initialized.\")\n",
    "        \n",
    "        \n",
    "    def fit(self, epochs, lr):\n",
    "        \n",
    "        # Implementing Gradient Descent\n",
    "        for _ in range(epochs):\n",
    "            y_pred = self.m * self.x + self.b\n",
    "            \n",
    "            # Calculating derivatives\n",
    "            d_m = -2/len(self.x)*sum(self.x * (self.y - y_pred))\n",
    "            d_b = -2/len(self.x)*sum(self.y - y_pred)\n",
    "            \n",
    "            #Updating parameters\n",
    "            self.m = self.m - lr * d_m\n",
    "            self.b = self.b - lr * d_b\n",
    "            \n",
    "            print(f\" Epoch {_}/{epochs} -  MSE: {mse(y, y_pred)}\")\n",
    "        print(\"Model has beed fitted.\")\n",
    "        \n",
    "    \n",
    "    def coefficients(self):\n",
    "        \n",
    "        return self.m, self.b\n",
    "\n",
    "    \n",
    "    def predict(self, x_test):\n",
    "        y_pred = self.m * x_test + self.b\n",
    "        \n",
    "        return y_pred"
   ]
  },
  {
   "cell_type": "code",
   "execution_count": 314,
   "metadata": {},
   "outputs": [
    {
     "name": "stdout",
     "output_type": "stream",
     "text": [
      "Model has been initialized.\n"
     ]
    }
   ],
   "source": [
    "model = LinearRegression(X, y)"
   ]
  },
  {
   "cell_type": "code",
   "execution_count": 315,
   "metadata": {},
   "outputs": [
    {
     "name": "stdout",
     "output_type": "stream",
     "text": [
      " Epoch 0/10 -  MSE: 12.868214059171903\n",
      " Epoch 1/10 -  MSE: 8.48596101800048\n",
      " Epoch 2/10 -  MSE: 5.730754158266872\n",
      " Epoch 3/10 -  MSE: 3.997499857873192\n",
      " Epoch 4/10 -  MSE: 2.906511524844993\n",
      " Epoch 5/10 -  MSE: 2.219402228423521\n",
      " Epoch 6/10 -  MSE: 1.7864127654388724\n",
      " Epoch 7/10 -  MSE: 1.513406731957057\n",
      " Epoch 8/10 -  MSE: 1.341177066197626\n",
      " Epoch 9/10 -  MSE: 1.2324640325731708\n",
      "Model has beed fitted.\n"
     ]
    }
   ],
   "source": [
    "model.fit(epochs = 10, lr = 0.1)"
   ]
  },
  {
   "cell_type": "code",
   "execution_count": 316,
   "metadata": {},
   "outputs": [
    {
     "name": "stdout",
     "output_type": "stream",
     "text": [
      "Mean squared error for validation dataset:\n",
      " 1.5333054596686748\n"
     ]
    }
   ],
   "source": [
    "y_pred = model.predict(X_test)\n",
    "\n",
    "print(f\"Mean squared error for validation dataset:\\n {mse(y_test, y_pred)}\")"
   ]
  },
  {
   "cell_type": "code",
   "execution_count": 317,
   "metadata": {},
   "outputs": [],
   "source": [
    "slope_, intercept_ = model.coefficients()"
   ]
  },
  {
   "cell_type": "code",
   "execution_count": 318,
   "metadata": {},
   "outputs": [
    {
     "data": {
      "image/png": "[encoded data removed]",
      "text/plain": [
       "<Figure size 576x432 with 1 Axes>"
      ]
     },
     "metadata": {
      "needs_background": "light"
     },
     "output_type": "display_data"
    }
   ],
   "source": [
    "linspace = np.linspace(X.min(), X.max(), num = 100)\n",
    "\n",
    "plt.figure(figsize=(8, 6))\n",
    "plt.xlabel(\"X\")\n",
    "plt.ylabel(\"Y\")\n",
    "plt.plot(X, y, \"bo\");\n",
    "plt.plot(linspace , slope_ * linspace + intercept_, \"r--\");"
   ]
  },
  {
   "cell_type": "code",
   "execution_count": null,
   "metadata": {},
   "outputs": [],
   "source": []
  }
 ],
 "metadata": {
  "kernelspec": {
   "display_name": "Python 3",
   "language": "python",
   "name": "python3"
  },
  "language_info": {
   "codemirror_mode": {
    "name": "ipython",
    "version": 3
   },
   "file_extension": ".py",
   "mimetype": "text/x-python",
   "name": "python",
   "nbconvert_exporter": "python",
   "pygments_lexer": "ipython3",
   "version": "3.7.0"
  }
 },
 "nbformat": 4,
 "nbformat_minor": 2
}
